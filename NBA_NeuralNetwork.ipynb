{
 "cells": [
  {
   "cell_type": "code",
   "execution_count": 178,
   "id": "5711cbcc",
   "metadata": {},
   "outputs": [],
   "source": [
    "import torch\n",
    "import os\n",
    "import numpy as np\n",
    "import pandas as pd\n",
    "from tqdm import tqdm\n",
    "import seaborn as sns\n",
    "from pylab import rcParams\n",
    "import matplotlib.pyplot as plt\n",
    "from matplotlib import rc\n",
    "from sklearn.model_selection import train_test_split\n",
    "from sklearn.metrics import confusion_matrix, classification_report\n",
    "from torch import nn, optim\n",
    "import torch.nn.functional as F"
   ]
  },
  {
   "cell_type": "code",
   "execution_count": 179,
   "id": "4ceccdfd",
   "metadata": {},
   "outputs": [],
   "source": [
    "import pandas as pd\n",
    "import numpy as np\n",
    "import re\n",
    "import datetime\n",
    "import requests\n",
    "pd.set_option('mode.chained_assignment',None)"
   ]
  },
  {
   "cell_type": "code",
   "execution_count": 180,
   "id": "ce2f4fdf",
   "metadata": {},
   "outputs": [],
   "source": [
    "# for nba\n",
    "df = pd.read_pickle('/Users/tonyowens/Downloads/improved_nba_data1.pkl')"
   ]
  },
  {
   "cell_type": "code",
   "execution_count": 181,
   "id": "203bafcd",
   "metadata": {
    "scrolled": true
   },
   "outputs": [
    {
     "data": {
      "text/html": [
       "<div>\n",
       "<style scoped>\n",
       "    .dataframe tbody tr th:only-of-type {\n",
       "        vertical-align: middle;\n",
       "    }\n",
       "\n",
       "    .dataframe tbody tr th {\n",
       "        vertical-align: top;\n",
       "    }\n",
       "\n",
       "    .dataframe thead th {\n",
       "        text-align: right;\n",
       "    }\n",
       "</style>\n",
       "<table border=\"1\" class=\"dataframe\">\n",
       "  <thead>\n",
       "    <tr style=\"text-align: right;\">\n",
       "      <th></th>\n",
       "      <th>Date</th>\n",
       "      <th>Year</th>\n",
       "      <th>Away</th>\n",
       "      <th>Away_Pts</th>\n",
       "      <th>Home</th>\n",
       "      <th>Home_Pts</th>\n",
       "      <th>Home_Team</th>\n",
       "      <th>Home_PPG</th>\n",
       "      <th>Home_FGM</th>\n",
       "      <th>Home_FGA</th>\n",
       "      <th>...</th>\n",
       "      <th>Away_PF</th>\n",
       "      <th>Away_W</th>\n",
       "      <th>Away_L</th>\n",
       "      <th>Away_W/L%</th>\n",
       "      <th>Away_MOV/A</th>\n",
       "      <th>Away_ORtg/A</th>\n",
       "      <th>Away_DRtg/A</th>\n",
       "      <th>Target</th>\n",
       "      <th>Away_b2b</th>\n",
       "      <th>Home_b2b</th>\n",
       "    </tr>\n",
       "  </thead>\n",
       "  <tbody>\n",
       "    <tr>\n",
       "      <th>0</th>\n",
       "      <td>1999-11-12</td>\n",
       "      <td>1999</td>\n",
       "      <td>Golden State</td>\n",
       "      <td>103</td>\n",
       "      <td>Vancouver</td>\n",
       "      <td>93</td>\n",
       "      <td>Vancouver</td>\n",
       "      <td>93.9</td>\n",
       "      <td>35.3</td>\n",
       "      <td>78.5</td>\n",
       "      <td>...</td>\n",
       "      <td>24.9</td>\n",
       "      <td>19</td>\n",
       "      <td>63</td>\n",
       "      <td>0.232</td>\n",
       "      <td>-7.62</td>\n",
       "      <td>100.70</td>\n",
       "      <td>108.65</td>\n",
       "      <td>0</td>\n",
       "      <td>0</td>\n",
       "      <td>0</td>\n",
       "    </tr>\n",
       "    <tr>\n",
       "      <th>1</th>\n",
       "      <td>1999-11-12</td>\n",
       "      <td>1999</td>\n",
       "      <td>Utah</td>\n",
       "      <td>92</td>\n",
       "      <td>Sacramento</td>\n",
       "      <td>105</td>\n",
       "      <td>Sacramento</td>\n",
       "      <td>105.0</td>\n",
       "      <td>40.0</td>\n",
       "      <td>88.9</td>\n",
       "      <td>...</td>\n",
       "      <td>24.5</td>\n",
       "      <td>55</td>\n",
       "      <td>27</td>\n",
       "      <td>0.671</td>\n",
       "      <td>4.52</td>\n",
       "      <td>108.00</td>\n",
       "      <td>103.06</td>\n",
       "      <td>1</td>\n",
       "      <td>0</td>\n",
       "      <td>0</td>\n",
       "    </tr>\n",
       "    <tr>\n",
       "      <th>2</th>\n",
       "      <td>1999-11-12</td>\n",
       "      <td>1999</td>\n",
       "      <td>Chicago</td>\n",
       "      <td>86</td>\n",
       "      <td>Philadelphia</td>\n",
       "      <td>92</td>\n",
       "      <td>Philadelphia</td>\n",
       "      <td>94.8</td>\n",
       "      <td>36.5</td>\n",
       "      <td>82.6</td>\n",
       "      <td>...</td>\n",
       "      <td>23.3</td>\n",
       "      <td>17</td>\n",
       "      <td>65</td>\n",
       "      <td>0.207</td>\n",
       "      <td>-9.23</td>\n",
       "      <td>95.42</td>\n",
       "      <td>105.65</td>\n",
       "      <td>1</td>\n",
       "      <td>0</td>\n",
       "      <td>0</td>\n",
       "    </tr>\n",
       "    <tr>\n",
       "      <th>3</th>\n",
       "      <td>1999-11-12</td>\n",
       "      <td>1999</td>\n",
       "      <td>Phoenix</td>\n",
       "      <td>92</td>\n",
       "      <td>Milwaukee</td>\n",
       "      <td>107</td>\n",
       "      <td>Milwaukee</td>\n",
       "      <td>101.2</td>\n",
       "      <td>38.7</td>\n",
       "      <td>83.3</td>\n",
       "      <td>...</td>\n",
       "      <td>24.1</td>\n",
       "      <td>53</td>\n",
       "      <td>29</td>\n",
       "      <td>0.646</td>\n",
       "      <td>5.24</td>\n",
       "      <td>104.90</td>\n",
       "      <td>99.48</td>\n",
       "      <td>1</td>\n",
       "      <td>0</td>\n",
       "      <td>0</td>\n",
       "    </tr>\n",
       "    <tr>\n",
       "      <th>4</th>\n",
       "      <td>1999-11-12</td>\n",
       "      <td>1999</td>\n",
       "      <td>Houston</td>\n",
       "      <td>97</td>\n",
       "      <td>L.A. Lakers</td>\n",
       "      <td>81</td>\n",
       "      <td>L.A. Lakers</td>\n",
       "      <td>100.8</td>\n",
       "      <td>38.3</td>\n",
       "      <td>83.4</td>\n",
       "      <td>...</td>\n",
       "      <td>20.3</td>\n",
       "      <td>34</td>\n",
       "      <td>48</td>\n",
       "      <td>0.415</td>\n",
       "      <td>-0.56</td>\n",
       "      <td>105.72</td>\n",
       "      <td>106.41</td>\n",
       "      <td>0</td>\n",
       "      <td>0</td>\n",
       "      <td>0</td>\n",
       "    </tr>\n",
       "  </tbody>\n",
       "</table>\n",
       "<p>5 rows × 57 columns</p>\n",
       "</div>"
      ],
      "text/plain": [
       "        Date  Year          Away  Away_Pts          Home  Home_Pts  \\\n",
       "0 1999-11-12  1999  Golden State       103     Vancouver        93   \n",
       "1 1999-11-12  1999          Utah        92    Sacramento       105   \n",
       "2 1999-11-12  1999       Chicago        86  Philadelphia        92   \n",
       "3 1999-11-12  1999       Phoenix        92     Milwaukee       107   \n",
       "4 1999-11-12  1999       Houston        97   L.A. Lakers        81   \n",
       "\n",
       "      Home_Team  Home_PPG  Home_FGM  Home_FGA  ...  Away_PF  Away_W  Away_L  \\\n",
       "0     Vancouver      93.9      35.3      78.5  ...     24.9      19      63   \n",
       "1    Sacramento     105.0      40.0      88.9  ...     24.5      55      27   \n",
       "2  Philadelphia      94.8      36.5      82.6  ...     23.3      17      65   \n",
       "3     Milwaukee     101.2      38.7      83.3  ...     24.1      53      29   \n",
       "4   L.A. Lakers     100.8      38.3      83.4  ...     20.3      34      48   \n",
       "\n",
       "   Away_W/L%  Away_MOV/A  Away_ORtg/A  Away_DRtg/A  Target  Away_b2b  Home_b2b  \n",
       "0      0.232       -7.62       100.70       108.65       0         0         0  \n",
       "1      0.671        4.52       108.00       103.06       1         0         0  \n",
       "2      0.207       -9.23        95.42       105.65       1         0         0  \n",
       "3      0.646        5.24       104.90        99.48       1         0         0  \n",
       "4      0.415       -0.56       105.72       106.41       0         0         0  \n",
       "\n",
       "[5 rows x 57 columns]"
      ]
     },
     "execution_count": 181,
     "metadata": {},
     "output_type": "execute_result"
    }
   ],
   "source": [
    "df.head()"
   ]
  },
  {
   "cell_type": "code",
   "execution_count": 182,
   "id": "725cec3b",
   "metadata": {},
   "outputs": [],
   "source": [
    "all_possible = ['Home_PPG', 'Home_FGM', 'Home_FGA', 'Home_FG%', 'Home_3PM', 'Home_3PA',\n",
    "       'Home_3P%', 'Home_FTM', 'Home_FTA', 'Home_FT%', 'Home_ORB', 'Home_DRB',\n",
    "       'Home_APG', 'Home_SPG', 'Home_BPG', 'Home_TOV', 'Home_PF', 'Home_W',\n",
    "       'Home_L', 'Home_W/L%', 'Home_MOV/A', 'Home_ORtg/A', 'Home_DRtg/A',\n",
    "                'Away_PPG', 'Away_FGM', 'Away_FGA', 'Away_FG%', 'Away_3PM',\n",
    "       'Away_3PA', 'Away_3P%', 'Away_FTM', 'Away_FTA', 'Away_FT%', 'Away_ORB',\n",
    "       'Away_DRB', 'Away_APG', 'Away_SPG', 'Away_BPG', 'Away_TOV', 'Away_PF',\n",
    "       'Away_W', 'Away_L', 'Away_W/L%', 'Away_MOV/A', 'Away_ORtg/A',\n",
    "       'Away_DRtg/A','Away_b2b', 'Home_b2b']"
   ]
  },
  {
   "cell_type": "code",
   "execution_count": 183,
   "id": "adecf90f",
   "metadata": {},
   "outputs": [],
   "source": [
    "normal_cols = all_possible.copy()\n",
    "normal_cols.remove('Away_b2b')\n",
    "normal_cols.remove('Home_b2b')"
   ]
  },
  {
   "cell_type": "code",
   "execution_count": 184,
   "id": "699f008d",
   "metadata": {},
   "outputs": [],
   "source": [
    "from sklearn.preprocessing import StandardScaler\n",
    "scaler = StandardScaler().fit(df[normal_cols])"
   ]
  },
  {
   "cell_type": "code",
   "execution_count": 185,
   "id": "b2bf4cf8",
   "metadata": {
    "scrolled": false
   },
   "outputs": [],
   "source": [
    "df[normal_cols] = scaler.transform(df[normal_cols])"
   ]
  },
  {
   "cell_type": "code",
   "execution_count": 186,
   "id": "00eb2640",
   "metadata": {},
   "outputs": [],
   "source": [
    "class MissingDict(dict):\n",
    "    __missing__ = lambda self, key: key\n",
    "team_name_conversions = {\"New Jersey\": \"New Jersey Nets\", \"Houston\" : \"Houston Rockets\", \"Utah\" : \"Utah Jazz\", \"L.A. Clippers\": \"Los Angeles Clippers\", \"L.A. Lakers\": \"Los Angeles Lakers\", \"Phoenix\": \"Phoenix Suns\", \"Milwaukee\" : \"Milwaukee Bucks\", \"Philadelphia\": \"Philadelphia 76ers\", \"Denver\" : \"Denver Nuggets\",\"Brooklyn\": \"Brooklyn Nets\", \"Dallas\" : \"Dallas Mavericks\", \"New York\" : \"New York Knicks\", \"Atlanta\" : \"Atlanta Hawks\", \"Portland\": \"Portland Trail Blazers\", \"Boston\": \"Boston Celtics\", \"Golden State\" : \"Golden State Warriors\", \"Memphis\" : \"Memphis Grizzlies\", \"Miami\": \"Miami Heat\", \"Indiana\" : \"Indiana Pacers\", \"New Orleans\" : \"New Orleans Pelicans\", \"Toronto\" : \"Toronto Raptors\", \"Chicago\": \"Chicago Bulls\", \"San Antonio\" : \"San Antonio Spurs\", \"Washington\" : \"Washington Wizards\", \"Sacramento\" : \"Sacramento Kings\", \"Detroit\" : \"Detroit Pistons\", \"Minnesota\" : \"Minnesota Timberwolves\", \"Charlotte\": \"Charlotte Bobcats\", \"Cleveland\": \"Cleveland Cavaliers\", \"Orlando\": \"Orlando Magic\", \"Oklahoma City\" : \"Oklahoma City Thunder\"}\n",
    "name_convs = {v: k for k, v in team_name_conversions.items()}\n",
    "name_convs['New Orleans Hornets'] = \"New Orleans\"\n",
    "name_convs['Charlotte Hornets'] = \"Charlotte\"\n",
    "name_convs[\"Seattle SuperSonics\"] = \"Seattle\"\n",
    "name_convs[\"Vancouver Grizzlies\"] = \"Vancouver\"\n",
    "name_convs[\"New Orleans/Oklahoma City Hornets\"] = \"New Orleans\"\n",
    "maps = MissingDict(**name_convs)"
   ]
  },
  {
   "cell_type": "code",
   "execution_count": 187,
   "id": "c15a4028",
   "metadata": {},
   "outputs": [],
   "source": [
    "all_years = []\n",
    "all_months = []\n",
    "stats_url = f\"https://www.basketball-reference.com/leagues/NBA_{2023}_ratings.html\"\n",
    "data_stats = requests.get(stats_url)\n",
    "stats = pd.read_html(data_stats.content)[0]\n",
    "stats.columns = stats.columns.droplevel()\n",
    "months = ['october', 'november', 'december', 'january', 'february', 'march']\n",
    "month_abrv = ['december', 'january', 'february', 'march']\n",
    "month_nov = ['november','december', 'january', 'february', 'march']\n",
    "ms_url = f\"https://basketball.realgm.com/nba/team-stats/{2023}/Averages/Team_Totals/Regular_Season\"\n",
    "ms_data = requests.get(ms_url)\n",
    "ms_stats = pd.read_html(ms_data.content)[-1]\n",
    "stats.Team = stats.Team.map(name_convs)\n",
    "stats = ms_stats.merge(stats,left_on = [\"Team\"],right_on = [\"Team\"], how = \"outer\")"
   ]
  },
  {
   "cell_type": "code",
   "execution_count": 188,
   "id": "e2631abf",
   "metadata": {},
   "outputs": [],
   "source": [
    "stats_cols = ['PPG', 'FGM', 'FGA', 'FG%', '3PM', '3PA',\n",
    "       '3P%', 'FTM', 'FTA', 'FT%', 'ORB', 'DRB', 'RPG', 'APG', 'SPG', 'BPG',\n",
    "       'TOV', 'PF', 'Rk','W', 'L', 'W/L%', 'MOV', 'ORtg',\n",
    "       'DRtg', 'NRtg', 'MOV/A', 'ORtg/A', 'DRtg/A', 'NRtg/A']"
   ]
  },
  {
   "cell_type": "code",
   "execution_count": 189,
   "id": "2c5d44bc",
   "metadata": {},
   "outputs": [],
   "source": [
    "stats[stats_cols] = stats[stats_cols].astype(float)"
   ]
  },
  {
   "cell_type": "code",
   "execution_count": 190,
   "id": "4b70b8f2",
   "metadata": {},
   "outputs": [],
   "source": [
    "relevant_cols = ['Date', 'Away', 'Away Pts', 'Home', 'Home Pts',\n",
    "       'Home Team', 'Home PPG', 'Home FGM', 'Home FGA',\n",
    "       'Home FG%', 'Home 3PM', 'Home 3PA', 'Home 3P%', 'Home FTM', 'Home FTA',\n",
    "       'Home FT%', 'Home ORB', 'Home DRB','Home APG', 'Home SPG',\n",
    "       'Home BPG', 'Home TOV', 'Home PF', 'Home W', 'Home L', 'Home W/L%','Home MOV/A', \n",
    "                 'Home ORtg/A', 'Home DRtg/A','Away Team', \n",
    "        'Away PPG', 'Away FGM',\n",
    "       'Away FGA', 'Away FG%', 'Away 3PM', 'Away 3PA', 'Away 3P%', 'Away FTM',\n",
    "       'Away FTA', 'Away FT%', 'Away ORB', 'Away DRB',  'Away APG',\n",
    "       'Away SPG', 'Away BPG', 'Away TOV', 'Away PF','Away W', 'Away L', \n",
    "                 'Away W/L%','Away MOV/A', 'Away ORtg/A', 'Away DRtg/A']"
   ]
  },
  {
   "cell_type": "code",
   "execution_count": 191,
   "id": "e99a5e45",
   "metadata": {},
   "outputs": [],
   "source": [
    "all_years = []\n",
    "all_months = []\n",
    "for month in months:\n",
    "    url = f\"https://www.basketball-reference.com/leagues/NBA_{2023}_games-{month}.html\"\n",
    "    data = requests.get(url)\n",
    "    sched = pd.read_html(data.content)[0]\n",
    "    sched = sched.rename(columns = {\"Visitor/Neutral\" : \"Away\", \"Home/Neutral\" : \"Home\", \"PTS\" : \"Away Pts\", \"PTS.1\" : \"Home Pts\"})\n",
    "    attempt = []\n",
    "    for j in sched.index:\n",
    "        test = sched.loc[sched.index == j]\n",
    "        test.Home = test.Home.map(name_convs)\n",
    "        test.Away = test.Away.map(name_convs)\n",
    "        attempt.append(pd.merge(pd.merge(test,stats[stats['Team'].isin(test['Home'])].add_prefix('Home '),left_on='Home',right_on = 'Home Team'),stats[stats['Team'].isin(test['Away'])].add_prefix('Away '),left_on = 'Away', right_on = 'Away Team'))\n",
    "    all_months.append(pd.concat(attempt))\n",
    "    full_sched = pd.concat(all_months).sort_values(by ='Date').reset_index(drop = True)\n",
    "    all_years.append(full_sched)\n",
    "current_sched = pd.concat(all_years)[relevant_cols]"
   ]
  },
  {
   "cell_type": "code",
   "execution_count": 192,
   "id": "731d7b0f",
   "metadata": {},
   "outputs": [],
   "source": [
    "format_cols = []\n",
    "for i in relevant_cols:\n",
    "    i = i.replace(' ','_')\n",
    "    format_cols.append(i)"
   ]
  },
  {
   "cell_type": "code",
   "execution_count": 193,
   "id": "89dde14f",
   "metadata": {},
   "outputs": [],
   "source": [
    "current_sched.columns = format_cols"
   ]
  },
  {
   "cell_type": "code",
   "execution_count": 194,
   "id": "92c1a541",
   "metadata": {},
   "outputs": [],
   "source": [
    "current_sched.Date = current_sched.Date.apply(lambda x: re.split('[A-Z]{1}[a-z]{2}, ',x)[1])"
   ]
  },
  {
   "cell_type": "code",
   "execution_count": 195,
   "id": "802f25b6",
   "metadata": {},
   "outputs": [],
   "source": [
    "current_sched.Date = pd.to_datetime(current_sched.Date)"
   ]
  },
  {
   "cell_type": "code",
   "execution_count": 196,
   "id": "455634e0",
   "metadata": {},
   "outputs": [],
   "source": [
    "def curr_b2b_home(row):\n",
    "    prev_row = current_sched[current_sched.Date == row.Date - datetime.timedelta(days = 1)]\n",
    "    if len(prev_row) == 0:\n",
    "        return 0\n",
    "    elif(len(prev_row[(prev_row.Home == row.Home) | (prev_row.Away == row.Home)]) > 0):\n",
    "        return 1\n",
    "    return 0\n",
    "def curr_b2b_away(row):\n",
    "    prev_row = current_sched[current_sched.Date == row.Date - datetime.timedelta(days = 1)]\n",
    "    if len(prev_row) == 0:\n",
    "        return 0\n",
    "    elif(len(prev_row[(prev_row.Home == row.Away) | (prev_row.Away == row.Away)]) > 0):\n",
    "        return 1\n",
    "    return 0"
   ]
  },
  {
   "cell_type": "code",
   "execution_count": 197,
   "id": "a7cf3d33",
   "metadata": {},
   "outputs": [],
   "source": [
    "current_sched['Away_b2b'] = current_sched.apply(lambda x:curr_b2b_away(x),axis = 1)\n",
    "current_sched['Home_b2b'] = current_sched.apply(lambda x:curr_b2b_home(x),axis = 1)"
   ]
  },
  {
   "cell_type": "code",
   "execution_count": 198,
   "id": "fbb3fe4d",
   "metadata": {},
   "outputs": [],
   "source": [
    "X,y = df[all_possible],df.Target"
   ]
  },
  {
   "cell_type": "code",
   "execution_count": 199,
   "id": "19260de9",
   "metadata": {},
   "outputs": [],
   "source": [
    "from sklearn.model_selection import train_test_split\n",
    "# X_train,X_test,y_train,y_test = train_test_split(X, y,train_size=.95)\n",
    "X_non_test, X_test, y_non_test,y_test = train_test_split(X, \n",
    "                                                           y,train_size=.80)\n",
    "X_train, X_val, y_train,y_val = train_test_split(X_non_test, \n",
    "                                                           y_non_test,train_size=.80)"
   ]
  },
  {
   "cell_type": "code",
   "execution_count": 200,
   "id": "d1664b2e",
   "metadata": {},
   "outputs": [],
   "source": [
    "X_train = torch.from_numpy(X_train.to_numpy()).float()\n",
    "y_train = torch.squeeze(torch.from_numpy(y_train.to_numpy()).float())\n",
    "X_val = torch.squeeze(torch.from_numpy(X_val.to_numpy()).float())\n",
    "y_val = torch.from_numpy(y_val.to_numpy()).float()\n",
    "X_test = torch.from_numpy(X_test.to_numpy()).float()\n",
    "y_test = torch.squeeze(torch.from_numpy(y_test.to_numpy()).float())"
   ]
  },
  {
   "cell_type": "code",
   "execution_count": 201,
   "id": "b1f7221e",
   "metadata": {},
   "outputs": [],
   "source": [
    "class Net(nn.Module):\n",
    "  def __init__(self, n_features):\n",
    "    super(Net, self).__init__()\n",
    "    self.fc1 = nn.Linear(n_features, 80)\n",
    "    self.fc2 = nn.Linear(80, 100)\n",
    "    self.fc3 = nn.Linear(100, 150)\n",
    "    self.fc4 = nn.Linear(150, 300)\n",
    "    self.fc5 = nn.Linear(300, 1)\n",
    "  def forward(self, x):\n",
    "    x = F.relu(self.fc1(x))\n",
    "    x = F.relu(self.fc2(x))\n",
    "    x = F.relu(self.fc3(x))\n",
    "    x = F.relu(self.fc4(x))\n",
    "    return torch.sigmoid(self.fc5(x))\n",
    "net = Net(X_train.shape[1])"
   ]
  },
  {
   "cell_type": "code",
   "execution_count": 202,
   "id": "71d468e8",
   "metadata": {
    "scrolled": true
   },
   "outputs": [],
   "source": [
    "criterion = nn.BCELoss()\n",
    "optimizer = optim.SGD(net.parameters(), lr=1e-2)"
   ]
  },
  {
   "cell_type": "code",
   "execution_count": 203,
   "id": "a06be7ef",
   "metadata": {},
   "outputs": [],
   "source": [
    "device = torch.device(\"cuda:0\" if torch.cuda.is_available() else \"cpu\")\n",
    "X_train = X_train.to(device)\n",
    "y_train = y_train.to(device)\n",
    "X_test = X_test.to(device)\n",
    "y_test = y_test.to(device)\n",
    "net = net.to(device)\n",
    "criterion = criterion.to(device)"
   ]
  },
  {
   "cell_type": "code",
   "execution_count": 204,
   "id": "f1c05132",
   "metadata": {},
   "outputs": [],
   "source": [
    "def calculate_accuracy(y_true, y_pred):\n",
    "  predicted = y_pred.ge(.5).view(-1)\n",
    "  return (y_true == predicted).sum().float() / len(y_true)\n"
   ]
  },
  {
   "cell_type": "code",
   "execution_count": 205,
   "id": "6248c560",
   "metadata": {
    "scrolled": true
   },
   "outputs": [
    {
     "name": "stdout",
     "output_type": "stream",
     "text": [
      "epoch 0\n",
      "Train set - loss: 0.695, accuracy: 40.61%\n",
      "Test  set - loss: 0.695, accuracy: 40.12%\n",
      "\n",
      "epoch 1000\n",
      "Train set - loss: 0.644, accuracy: 59.41%\n",
      "Test  set - loss: 0.644, accuracy: 59.88%\n",
      "\n",
      "epoch 2000\n",
      "Train set - loss: 0.581, accuracy: 69.19999999999999%\n",
      "Test  set - loss: 0.588, accuracy: 68.24%\n",
      "\n",
      "epoch 3000\n",
      "Train set - loss: 0.575, accuracy: 69.46%\n",
      "Test  set - loss: 0.584, accuracy: 68.58%\n",
      "\n",
      "epoch 4000\n",
      "Train set - loss: 0.573, accuracy: 69.47%\n",
      "Test  set - loss: 0.583, accuracy: 69.0%\n",
      "\n",
      "epoch 5000\n",
      "Train set - loss: 0.571, accuracy: 69.77%\n",
      "Test  set - loss: 0.582, accuracy: 69.08%\n",
      "\n"
     ]
    }
   ],
   "source": [
    "def round_tensor(t, decimal_places=3):\n",
    "  return round(t.item(), decimal_places)\n",
    "for epoch in range(5001):\n",
    "    y_pred = net(X_train)\n",
    "    y_pred = torch.squeeze(y_pred)\n",
    "    train_loss = criterion(y_pred, y_train)\n",
    "    if epoch % 1000 == 0:\n",
    "      train_acc = calculate_accuracy(y_train, y_pred)\n",
    "      y_test_pred = net(X_val)\n",
    "      y_test_pred = torch.squeeze(y_test_pred)\n",
    "      test_loss = criterion(y_test_pred, y_val)\n",
    "      test_acc = calculate_accuracy(y_val, y_test_pred)\n",
    "      print(\n",
    "f'''epoch {epoch}\n",
    "Train set - loss: {round_tensor(train_loss)}, accuracy: {100*round_tensor(train_acc,4)}%\n",
    "Test  set - loss: {round_tensor(test_loss)}, accuracy: {100*round_tensor(test_acc,4)}%\n",
    "''')\n",
    "#     optimizer.zero_grad()\n",
    "    for param in net.parameters():   \n",
    "        param.grad = None\n",
    "    train_loss.backward()\n",
    "    optimizer.step()"
   ]
  },
  {
   "cell_type": "markdown",
   "id": "aee9ec15",
   "metadata": {},
   "source": [
    "# Evaluate based on the test set "
   ]
  },
  {
   "cell_type": "code",
   "execution_count": 206,
   "id": "10f19991",
   "metadata": {},
   "outputs": [],
   "source": [
    "preds1 = np.round(net(X_test).detach().numpy())"
   ]
  },
  {
   "cell_type": "code",
   "execution_count": 207,
   "id": "bad72aed",
   "metadata": {},
   "outputs": [],
   "source": [
    "b = []\n",
    "for y1 in y_test.detach().numpy():\n",
    "    b = np.append(b,y1)"
   ]
  },
  {
   "cell_type": "code",
   "execution_count": 208,
   "id": "4918829b",
   "metadata": {},
   "outputs": [],
   "source": [
    "a = []\n",
    "for pred in preds1:\n",
    "    a = np.append(a,pred)\n",
    "    "
   ]
  },
  {
   "cell_type": "code",
   "execution_count": 209,
   "id": "6d5f5904",
   "metadata": {},
   "outputs": [
    {
     "name": "stdout",
     "output_type": "stream",
     "text": [
      "0.6917394224311618\n"
     ]
    },
    {
     "data": {
      "text/html": [
       "<div>\n",
       "<style scoped>\n",
       "    .dataframe tbody tr th:only-of-type {\n",
       "        vertical-align: middle;\n",
       "    }\n",
       "\n",
       "    .dataframe tbody tr th {\n",
       "        vertical-align: top;\n",
       "    }\n",
       "\n",
       "    .dataframe thead th {\n",
       "        text-align: right;\n",
       "    }\n",
       "</style>\n",
       "<table border=\"1\" class=\"dataframe\">\n",
       "  <thead>\n",
       "    <tr style=\"text-align: right;\">\n",
       "      <th>prediction</th>\n",
       "      <th>0.0</th>\n",
       "      <th>1.0</th>\n",
       "    </tr>\n",
       "    <tr>\n",
       "      <th>actual</th>\n",
       "      <th></th>\n",
       "      <th></th>\n",
       "    </tr>\n",
       "  </thead>\n",
       "  <tbody>\n",
       "    <tr>\n",
       "      <th>0.0</th>\n",
       "      <td>982</td>\n",
       "      <td>793</td>\n",
       "    </tr>\n",
       "    <tr>\n",
       "      <th>1.0</th>\n",
       "      <td>584</td>\n",
       "      <td>2108</td>\n",
       "    </tr>\n",
       "  </tbody>\n",
       "</table>\n",
       "</div>"
      ],
      "text/plain": [
       "prediction  0.0   1.0\n",
       "actual               \n",
       "0.0         982   793\n",
       "1.0         584  2108"
      ]
     },
     "execution_count": 209,
     "metadata": {},
     "output_type": "execute_result"
    }
   ],
   "source": [
    "from sklearn.metrics import accuracy_score\n",
    "accq = accuracy_score(b,a)\n",
    "print(accuracy_score(b,a))\n",
    "combinedq = pd.DataFrame(dict(actual =b ,prediction = a))\n",
    "pd.crosstab(index=combinedq[\"actual\"], columns = combinedq[\"prediction\"])"
   ]
  },
  {
   "cell_type": "code",
   "execution_count": 210,
   "id": "a79fbca3",
   "metadata": {},
   "outputs": [
    {
     "name": "stdout",
     "output_type": "stream",
     "text": [
      "Accuracy when predicting home win = 0.727\n"
     ]
    }
   ],
   "source": [
    "print(\"Accuracy when predicting home win = %.3f\" % (np.sum((combinedq.actual == combinedq.prediction) & (combinedq.prediction == 1)) / np.sum(combinedq.prediction)))"
   ]
  },
  {
   "cell_type": "code",
   "execution_count": 211,
   "id": "a0db3a2e",
   "metadata": {},
   "outputs": [
    {
     "name": "stdout",
     "output_type": "stream",
     "text": [
      "Accuracy when predicting road win = 0.627\n"
     ]
    }
   ],
   "source": [
    "print(\"Accuracy when predicting road win = %.3f\" % \n",
    "     (np.sum((combinedq.actual == combinedq.prediction) & (combinedq.prediction == 0))\n",
    "      / np.sum(combinedq.prediction == 0)))"
   ]
  },
  {
   "cell_type": "markdown",
   "id": "5a57bcad",
   "metadata": {},
   "source": [
    "### It is clear that the accuracy is much higher when predicting the home team to win than predicting the away team. My first instinct is that this is caused by a data imbalanced due to the fact that in the NBA,as in most sports, the home team wins the majority of the time"
   ]
  },
  {
   "cell_type": "code",
   "execution_count": 212,
   "id": "84bcebd5",
   "metadata": {},
   "outputs": [
    {
     "name": "stdout",
     "output_type": "stream",
     "text": [
      "The home team wins 59.7% percent of the time\n"
     ]
    }
   ],
   "source": [
    "print(\"The home team wins %.1f%% percent of the time\" % (100 * sum(y) / len(y)))"
   ]
  },
  {
   "cell_type": "markdown",
   "id": "4e76c45c",
   "metadata": {},
   "source": [
    "# It might be beneficial to balance the dataset\n",
    "### This will be done in R to take advantage of the ROSE package"
   ]
  },
  {
   "cell_type": "code",
   "execution_count": 213,
   "id": "f2d17a8e",
   "metadata": {},
   "outputs": [],
   "source": [
    "# convert to a csv to use in R\n",
    "df[all_possible + ['Target']].to_csv('/Users/tonyowens/Downloads/nba_raw_data.csv')"
   ]
  },
  {
   "cell_type": "markdown",
   "id": "98a873c2",
   "metadata": {},
   "source": [
    "# With simulated data"
   ]
  },
  {
   "cell_type": "code",
   "execution_count": 214,
   "id": "b34fbcad",
   "metadata": {},
   "outputs": [],
   "source": [
    "nba_simul_data = pd.read_csv('/Users/tonyowens/Downloads/nba_simulated_data.csv',index_col = [0])"
   ]
  },
  {
   "cell_type": "code",
   "execution_count": 215,
   "id": "663146d0",
   "metadata": {},
   "outputs": [],
   "source": [
    "nba_cols = ['Home_PPG', 'Home_FGM', 'Home_FGA', 'Home_FG.', 'Home_3PM', 'Home_3PA',\n",
    "       'Home_3P.', 'Home_FTM', 'Home_FTA', 'Home_FT.', 'Home_ORB', 'Home_DRB',\n",
    "       'Home_APG', 'Home_SPG', 'Home_BPG', 'Home_TOV', 'Home_PF', 'Home_W',\n",
    "       'Home_L', 'Home_W.L.', 'Home_MOV.A', 'Home_ORtg.A', 'Home_DRtg.A',\n",
    "       'Away_PPG', 'Away_FGM', 'Away_FGA', 'Away_FG.', 'Away_3PM', 'Away_3PA',\n",
    "       'Away_3P.', 'Away_FTM', 'Away_FTA', 'Away_FT.', 'Away_ORB', 'Away_DRB',\n",
    "       'Away_APG', 'Away_SPG', 'Away_BPG', 'Away_TOV', 'Away_PF', 'Away_W',\n",
    "       'Away_L', 'Away_W.L.', 'Away_MOV.A', 'Away_ORtg.A', 'Away_DRtg.A',\n",
    "       'Away_b2b', 'Home_b2b']"
   ]
  },
  {
   "cell_type": "code",
   "execution_count": 216,
   "id": "ce7f2b65",
   "metadata": {},
   "outputs": [],
   "source": [
    "X_new,y_new = nba_simul_data[nba_cols],nba_simul_data.Target"
   ]
  },
  {
   "cell_type": "code",
   "execution_count": 217,
   "id": "66efb378",
   "metadata": {},
   "outputs": [
    {
     "name": "stdout",
     "output_type": "stream",
     "text": [
      "The home team now wins 50.1% percent of the time\n"
     ]
    }
   ],
   "source": [
    "print(\"The home team now wins %.1f%% percent of the time\" % (100 * sum(y_new) / len(y_new)))"
   ]
  },
  {
   "cell_type": "markdown",
   "id": "454e476a",
   "metadata": {},
   "source": [
    "## This is much more balanced and should reduce the gap between home and away accuracy"
   ]
  },
  {
   "cell_type": "code",
   "execution_count": 218,
   "id": "c65118a3",
   "metadata": {},
   "outputs": [],
   "source": [
    "from sklearn.model_selection import train_test_split\n",
    "# X_train,X_test,y_train,y_test = train_test_split(X, y,train_size=.95)\n",
    "X_non_test, X_test, y_non_test,y_test = train_test_split(X_new, \n",
    "                                                           y_new,train_size=.80)\n",
    "X_train, X_val, y_train,y_val = train_test_split(X_non_test, \n",
    "                                                           y_non_test,train_size=.80)"
   ]
  },
  {
   "cell_type": "code",
   "execution_count": 219,
   "id": "6c2f1734",
   "metadata": {},
   "outputs": [],
   "source": [
    "X_train = torch.from_numpy(X_train.to_numpy()).float()\n",
    "y_train = torch.squeeze(torch.from_numpy(y_train.to_numpy()).float())\n",
    "X_val = torch.squeeze(torch.from_numpy(X_val.to_numpy()).float())\n",
    "y_val = torch.from_numpy(y_val.to_numpy()).float()\n",
    "X_test = torch.from_numpy(X_test.to_numpy()).float()\n",
    "y_test = torch.squeeze(torch.from_numpy(y_test.to_numpy()).float())"
   ]
  },
  {
   "cell_type": "code",
   "execution_count": 220,
   "id": "4bc72e3b",
   "metadata": {},
   "outputs": [],
   "source": [
    "class Net(nn.Module):\n",
    "  def __init__(self, n_features):\n",
    "    super(Net, self).__init__()\n",
    "    self.fc1 = nn.Linear(n_features, 80)\n",
    "    self.fc2 = nn.Linear(80, 100)\n",
    "    self.fc3 = nn.Linear(100, 150)\n",
    "    self.fc4 = nn.Linear(150, 350)\n",
    "    self.fc5 = nn.Linear(350, 1)\n",
    "  def forward(self, x):\n",
    "    x = F.relu(self.fc1(x))\n",
    "    x = F.relu(self.fc2(x))\n",
    "    x = F.relu(self.fc3(x))\n",
    "    x = F.relu(self.fc4(x))\n",
    "    return torch.sigmoid(self.fc5(x))\n",
    "net = Net(X_train.shape[1])"
   ]
  },
  {
   "cell_type": "code",
   "execution_count": 221,
   "id": "ff33a7d7",
   "metadata": {
    "scrolled": true
   },
   "outputs": [],
   "source": [
    "criterion = nn.BCELoss()\n",
    "optimizer = optim.SGD(net.parameters(), lr=1e-2)"
   ]
  },
  {
   "cell_type": "code",
   "execution_count": 222,
   "id": "d6aefb16",
   "metadata": {},
   "outputs": [],
   "source": [
    "device = torch.device(\"cuda:0\" if torch.cuda.is_available() else \"cpu\")\n",
    "X_train = X_train.to(device)\n",
    "y_train = y_train.to(device)\n",
    "X_test = X_test.to(device)\n",
    "y_test = y_test.to(device)\n",
    "net = net.to(device)\n",
    "criterion = criterion.to(device)"
   ]
  },
  {
   "cell_type": "code",
   "execution_count": 223,
   "id": "86b21ba7",
   "metadata": {},
   "outputs": [],
   "source": [
    "def calculate_accuracy(y_true, y_pred):\n",
    "  predicted = y_pred.ge(.5).view(-1)\n",
    "  return (y_true == predicted).sum().float() / len(y_true)\n"
   ]
  },
  {
   "cell_type": "code",
   "execution_count": 224,
   "id": "06774d94",
   "metadata": {},
   "outputs": [],
   "source": [
    "#tryna beat 68.7 #almost guaranteed that it will be defeated"
   ]
  },
  {
   "cell_type": "code",
   "execution_count": 225,
   "id": "cf2380bf",
   "metadata": {},
   "outputs": [
    {
     "name": "stdout",
     "output_type": "stream",
     "text": [
      "epoch 0\n",
      "Train set - loss: 0.693, accuracy: 49.220000000000006%\n",
      "Test  set - loss: 0.693, accuracy: 49.44%\n",
      "\n",
      "epoch 2000\n",
      "Train set - loss: 0.609, accuracy: 67.66%\n",
      "Test  set - loss: 0.61, accuracy: 67.35%\n",
      "\n",
      "epoch 4000\n",
      "Train set - loss: 0.591, accuracy: 68.58%\n",
      "Test  set - loss: 0.593, accuracy: 68.30000000000001%\n",
      "\n",
      "epoch 6000\n",
      "Train set - loss: 0.587, accuracy: 68.84%\n",
      "Test  set - loss: 0.589, accuracy: 68.66%\n",
      "\n",
      "epoch 8000\n",
      "Train set - loss: 0.584, accuracy: 69.17%\n",
      "Test  set - loss: 0.586, accuracy: 69.04%\n",
      "\n",
      "epoch 10000\n",
      "Train set - loss: 0.582, accuracy: 69.19999999999999%\n",
      "Test  set - loss: 0.584, accuracy: 69.12%\n",
      "\n"
     ]
    }
   ],
   "source": [
    "def round_tensor(t, decimal_places=3):\n",
    "  return round(t.item(), decimal_places)\n",
    "for epoch in range(10001):\n",
    "    y_pred = net(X_train)\n",
    "    y_pred = torch.squeeze(y_pred)\n",
    "    train_loss = criterion(y_pred, y_train)\n",
    "    if epoch % 2000 == 0:\n",
    "      train_acc = calculate_accuracy(y_train, y_pred)\n",
    "      y_test_pred = net(X_val)\n",
    "      y_test_pred = torch.squeeze(y_test_pred)\n",
    "      test_loss = criterion(y_test_pred, y_val)\n",
    "      test_acc = calculate_accuracy(y_val, y_test_pred)\n",
    "      print(\n",
    "f'''epoch {epoch}\n",
    "Train set - loss: {round_tensor(train_loss)}, accuracy: {100*round_tensor(train_acc,4)}%\n",
    "Test  set - loss: {round_tensor(test_loss)}, accuracy: {100*round_tensor(test_acc,4)}%\n",
    "''')\n",
    "#     optimizer.zero_grad()\n",
    "    for param in net.parameters():   \n",
    "        param.grad = None\n",
    "    train_loss.backward()\n",
    "    optimizer.step()"
   ]
  },
  {
   "cell_type": "code",
   "execution_count": 226,
   "id": "a3709d92",
   "metadata": {},
   "outputs": [],
   "source": [
    "preds_simul = np.round(net(X_test).detach().numpy())"
   ]
  },
  {
   "cell_type": "code",
   "execution_count": 227,
   "id": "7f3854d7",
   "metadata": {},
   "outputs": [],
   "source": [
    "b = []\n",
    "for y1 in y_test.detach().numpy():\n",
    "    b = np.append(b,y1)"
   ]
  },
  {
   "cell_type": "code",
   "execution_count": 228,
   "id": "809d718e",
   "metadata": {},
   "outputs": [],
   "source": [
    "a = []\n",
    "for pred in preds_simul:\n",
    "    a = np.append(a,pred)\n",
    "    "
   ]
  },
  {
   "cell_type": "code",
   "execution_count": 229,
   "id": "de2daa90",
   "metadata": {},
   "outputs": [
    {
     "name": "stdout",
     "output_type": "stream",
     "text": [
      "0.69635\n"
     ]
    },
    {
     "data": {
      "text/html": [
       "<div>\n",
       "<style scoped>\n",
       "    .dataframe tbody tr th:only-of-type {\n",
       "        vertical-align: middle;\n",
       "    }\n",
       "\n",
       "    .dataframe tbody tr th {\n",
       "        vertical-align: top;\n",
       "    }\n",
       "\n",
       "    .dataframe thead th {\n",
       "        text-align: right;\n",
       "    }\n",
       "</style>\n",
       "<table border=\"1\" class=\"dataframe\">\n",
       "  <thead>\n",
       "    <tr style=\"text-align: right;\">\n",
       "      <th>prediction</th>\n",
       "      <th>0.0</th>\n",
       "      <th>1.0</th>\n",
       "    </tr>\n",
       "    <tr>\n",
       "      <th>actual</th>\n",
       "      <th></th>\n",
       "      <th></th>\n",
       "    </tr>\n",
       "  </thead>\n",
       "  <tbody>\n",
       "    <tr>\n",
       "      <th>0.0</th>\n",
       "      <td>7198</td>\n",
       "      <td>2839</td>\n",
       "    </tr>\n",
       "    <tr>\n",
       "      <th>1.0</th>\n",
       "      <td>3234</td>\n",
       "      <td>6729</td>\n",
       "    </tr>\n",
       "  </tbody>\n",
       "</table>\n",
       "</div>"
      ],
      "text/plain": [
       "prediction   0.0   1.0\n",
       "actual                \n",
       "0.0         7198  2839\n",
       "1.0         3234  6729"
      ]
     },
     "execution_count": 229,
     "metadata": {},
     "output_type": "execute_result"
    }
   ],
   "source": [
    "from sklearn.metrics import accuracy_score\n",
    "accq = accuracy_score(b,a)\n",
    "print(accuracy_score(b,a))\n",
    "combinedq = pd.DataFrame(dict(actual =b ,prediction = a))\n",
    "pd.crosstab(index=combinedq[\"actual\"], columns = combinedq[\"prediction\"])"
   ]
  },
  {
   "cell_type": "code",
   "execution_count": 230,
   "id": "a003966c",
   "metadata": {},
   "outputs": [
    {
     "name": "stdout",
     "output_type": "stream",
     "text": [
      "Accuracy when predicting home win = 0.703\n"
     ]
    }
   ],
   "source": [
    "print(\"Accuracy when predicting home win = %.3f\" % (np.sum((combinedq.actual == combinedq.prediction) & (combinedq.prediction == 1))\n",
    "                                                    / np.sum(combinedq.prediction)))"
   ]
  },
  {
   "cell_type": "code",
   "execution_count": 231,
   "id": "804e1f57",
   "metadata": {},
   "outputs": [
    {
     "name": "stdout",
     "output_type": "stream",
     "text": [
      "Accuracy when predicting road win = 0.690\n"
     ]
    }
   ],
   "source": [
    "print(\"Accuracy when predicting road win = %.3f\" % \n",
    "     (np.sum((combinedq.actual == combinedq.prediction) & (combinedq.prediction == 0))\n",
    "      / np.sum(combinedq.prediction == 0)))"
   ]
  },
  {
   "cell_type": "markdown",
   "id": "a357fe22",
   "metadata": {},
   "source": [
    "### While a gap still exists, I would attribute the majority of the gap due to the fact that the away team winning likely features more upsets which are inherently harder to predict than the favored team winning."
   ]
  },
  {
   "cell_type": "markdown",
   "id": "18bb82f1",
   "metadata": {},
   "source": [
    "# Predicting games on a given day"
   ]
  },
  {
   "cell_type": "code",
   "execution_count": 232,
   "id": "7a787a1c",
   "metadata": {
    "scrolled": true
   },
   "outputs": [
    {
     "data": {
      "text/plain": [
       "'Nov 18, 2022'"
      ]
     },
     "execution_count": 232,
     "metadata": {},
     "output_type": "execute_result"
    }
   ],
   "source": [
    "today = datetime.datetime.today().strftime(\"%b %d, %Y\")\n",
    "today"
   ]
  },
  {
   "cell_type": "code",
   "execution_count": 233,
   "id": "48db30a5",
   "metadata": {},
   "outputs": [
    {
     "data": {
      "text/html": [
       "<div>\n",
       "<style scoped>\n",
       "    .dataframe tbody tr th:only-of-type {\n",
       "        vertical-align: middle;\n",
       "    }\n",
       "\n",
       "    .dataframe tbody tr th {\n",
       "        vertical-align: top;\n",
       "    }\n",
       "\n",
       "    .dataframe thead th {\n",
       "        text-align: right;\n",
       "    }\n",
       "</style>\n",
       "<table border=\"1\" class=\"dataframe\">\n",
       "  <thead>\n",
       "    <tr style=\"text-align: right;\">\n",
       "      <th></th>\n",
       "      <th>Date</th>\n",
       "      <th>Away</th>\n",
       "      <th>Home</th>\n",
       "      <th>Home_Team</th>\n",
       "      <th>Home_PPG</th>\n",
       "      <th>Home_FGM</th>\n",
       "      <th>Home_FGA</th>\n",
       "      <th>Home_FG%</th>\n",
       "      <th>Home_3PM</th>\n",
       "      <th>Home_3PA</th>\n",
       "      <th>...</th>\n",
       "      <th>Away_TOV</th>\n",
       "      <th>Away_PF</th>\n",
       "      <th>Away_W</th>\n",
       "      <th>Away_L</th>\n",
       "      <th>Away_W/L%</th>\n",
       "      <th>Away_MOV/A</th>\n",
       "      <th>Away_ORtg/A</th>\n",
       "      <th>Away_DRtg/A</th>\n",
       "      <th>Away_b2b</th>\n",
       "      <th>Home_b2b</th>\n",
       "    </tr>\n",
       "  </thead>\n",
       "  <tbody>\n",
       "    <tr>\n",
       "      <th>0</th>\n",
       "      <td>2022-11-18</td>\n",
       "      <td>Phoenix</td>\n",
       "      <td>Utah</td>\n",
       "      <td>Utah</td>\n",
       "      <td>116.6</td>\n",
       "      <td>42.6</td>\n",
       "      <td>91.5</td>\n",
       "      <td>0.465</td>\n",
       "      <td>14.7</td>\n",
       "      <td>40.0</td>\n",
       "      <td>...</td>\n",
       "      <td>13.3</td>\n",
       "      <td>21.6</td>\n",
       "      <td>9.0</td>\n",
       "      <td>5.0</td>\n",
       "      <td>0.643</td>\n",
       "      <td>6.84</td>\n",
       "      <td>118.66</td>\n",
       "      <td>111.82</td>\n",
       "      <td>0</td>\n",
       "      <td>0</td>\n",
       "    </tr>\n",
       "    <tr>\n",
       "      <th>1</th>\n",
       "      <td>2022-11-18</td>\n",
       "      <td>Boston</td>\n",
       "      <td>New Orleans</td>\n",
       "      <td>New Orleans</td>\n",
       "      <td>116.7</td>\n",
       "      <td>43.6</td>\n",
       "      <td>90.7</td>\n",
       "      <td>0.481</td>\n",
       "      <td>11.1</td>\n",
       "      <td>28.9</td>\n",
       "      <td>...</td>\n",
       "      <td>13.0</td>\n",
       "      <td>21.2</td>\n",
       "      <td>12.0</td>\n",
       "      <td>3.0</td>\n",
       "      <td>0.800</td>\n",
       "      <td>6.92</td>\n",
       "      <td>121.02</td>\n",
       "      <td>113.87</td>\n",
       "      <td>0</td>\n",
       "      <td>0</td>\n",
       "    </tr>\n",
       "    <tr>\n",
       "      <th>2</th>\n",
       "      <td>2022-11-18</td>\n",
       "      <td>Denver</td>\n",
       "      <td>Dallas</td>\n",
       "      <td>Dallas</td>\n",
       "      <td>108.6</td>\n",
       "      <td>37.9</td>\n",
       "      <td>83.8</td>\n",
       "      <td>0.452</td>\n",
       "      <td>13.5</td>\n",
       "      <td>39.9</td>\n",
       "      <td>...</td>\n",
       "      <td>15.6</td>\n",
       "      <td>18.6</td>\n",
       "      <td>9.0</td>\n",
       "      <td>5.0</td>\n",
       "      <td>0.643</td>\n",
       "      <td>0.93</td>\n",
       "      <td>115.70</td>\n",
       "      <td>114.91</td>\n",
       "      <td>0</td>\n",
       "      <td>0</td>\n",
       "    </tr>\n",
       "    <tr>\n",
       "      <th>3</th>\n",
       "      <td>2022-11-18</td>\n",
       "      <td>Charlotte</td>\n",
       "      <td>Cleveland</td>\n",
       "      <td>Cleveland</td>\n",
       "      <td>114.7</td>\n",
       "      <td>41.0</td>\n",
       "      <td>87.1</td>\n",
       "      <td>0.470</td>\n",
       "      <td>13.0</td>\n",
       "      <td>32.4</td>\n",
       "      <td>...</td>\n",
       "      <td>14.9</td>\n",
       "      <td>21.5</td>\n",
       "      <td>4.0</td>\n",
       "      <td>12.0</td>\n",
       "      <td>0.250</td>\n",
       "      <td>-5.80</td>\n",
       "      <td>107.87</td>\n",
       "      <td>113.64</td>\n",
       "      <td>0</td>\n",
       "      <td>0</td>\n",
       "    </tr>\n",
       "    <tr>\n",
       "      <th>4</th>\n",
       "      <td>2022-11-18</td>\n",
       "      <td>Orlando</td>\n",
       "      <td>Chicago</td>\n",
       "      <td>Chicago</td>\n",
       "      <td>110.7</td>\n",
       "      <td>40.4</td>\n",
       "      <td>86.3</td>\n",
       "      <td>0.468</td>\n",
       "      <td>10.4</td>\n",
       "      <td>29.0</td>\n",
       "      <td>...</td>\n",
       "      <td>16.9</td>\n",
       "      <td>21.7</td>\n",
       "      <td>4.0</td>\n",
       "      <td>11.0</td>\n",
       "      <td>0.267</td>\n",
       "      <td>-3.58</td>\n",
       "      <td>110.38</td>\n",
       "      <td>113.97</td>\n",
       "      <td>0</td>\n",
       "      <td>0</td>\n",
       "    </tr>\n",
       "  </tbody>\n",
       "</table>\n",
       "<p>5 rows × 53 columns</p>\n",
       "</div>"
      ],
      "text/plain": [
       "        Date       Away         Home    Home_Team  Home_PPG  Home_FGM  \\\n",
       "0 2022-11-18    Phoenix         Utah         Utah     116.6      42.6   \n",
       "1 2022-11-18     Boston  New Orleans  New Orleans     116.7      43.6   \n",
       "2 2022-11-18     Denver       Dallas       Dallas     108.6      37.9   \n",
       "3 2022-11-18  Charlotte    Cleveland    Cleveland     114.7      41.0   \n",
       "4 2022-11-18    Orlando      Chicago      Chicago     110.7      40.4   \n",
       "\n",
       "   Home_FGA  Home_FG%  Home_3PM  Home_3PA  ...  Away_TOV  Away_PF  Away_W  \\\n",
       "0      91.5     0.465      14.7      40.0  ...      13.3     21.6     9.0   \n",
       "1      90.7     0.481      11.1      28.9  ...      13.0     21.2    12.0   \n",
       "2      83.8     0.452      13.5      39.9  ...      15.6     18.6     9.0   \n",
       "3      87.1     0.470      13.0      32.4  ...      14.9     21.5     4.0   \n",
       "4      86.3     0.468      10.4      29.0  ...      16.9     21.7     4.0   \n",
       "\n",
       "   Away_L  Away_W/L%  Away_MOV/A  Away_ORtg/A  Away_DRtg/A  Away_b2b  Home_b2b  \n",
       "0     5.0      0.643        6.84       118.66       111.82         0         0  \n",
       "1     3.0      0.800        6.92       121.02       113.87         0         0  \n",
       "2     5.0      0.643        0.93       115.70       114.91         0         0  \n",
       "3    12.0      0.250       -5.80       107.87       113.64         0         0  \n",
       "4    11.0      0.267       -3.58       110.38       113.97         0         0  \n",
       "\n",
       "[5 rows x 53 columns]"
      ]
     },
     "execution_count": 233,
     "metadata": {},
     "output_type": "execute_result"
    }
   ],
   "source": [
    "todays_fixtures = current_sched[current_sched.Date == today]\n",
    "todays_fixtures.drop(columns = ['Away_Pts','Home_Pts'],inplace = True)\n",
    "todays_fixtures.drop_duplicates(inplace=True)\n",
    "todays_fixtures.reset_index(drop = True,inplace = True)\n",
    "todays_fixtures.head()"
   ]
  },
  {
   "cell_type": "code",
   "execution_count": 234,
   "id": "912ac538",
   "metadata": {},
   "outputs": [],
   "source": [
    "# day_preds = pd.read_pickle(f'/Users/tonyowens/Downloads/NN_picks_for{today}.pkl')\n",
    "day_preds = todays_fixtures[all_possible].copy()"
   ]
  },
  {
   "cell_type": "code",
   "execution_count": 235,
   "id": "df538da4",
   "metadata": {
    "scrolled": true
   },
   "outputs": [],
   "source": [
    "day_preds[normal_cols] = pd.DataFrame(scaler.transform(day_preds[normal_cols]))\n",
    "day_preds.columns = X.columns\n",
    "day_preds = torch.from_numpy(day_preds.to_numpy()).float()"
   ]
  },
  {
   "cell_type": "code",
   "execution_count": 236,
   "id": "1ccbe035",
   "metadata": {},
   "outputs": [],
   "source": [
    "# predict the games using the neural network\n",
    "preds = net(day_preds)"
   ]
  },
  {
   "cell_type": "code",
   "execution_count": 237,
   "id": "7ba64c55",
   "metadata": {},
   "outputs": [],
   "source": [
    "todays_fixtures['prob'] = np.round(preds.detach().numpy(),2)"
   ]
  },
  {
   "cell_type": "code",
   "execution_count": 238,
   "id": "6d57ccee",
   "metadata": {},
   "outputs": [],
   "source": [
    "todays_fixtures['winner'] = todays_fixtures.apply(lambda x:x['Home'] if x['prob'] >.5 else x['Away'],axis = 1)"
   ]
  },
  {
   "cell_type": "code",
   "execution_count": 239,
   "id": "b999e941",
   "metadata": {},
   "outputs": [],
   "source": [
    "def odds_formula(percent):\n",
    "    if percent > .5:\n",
    "        val =  100 + 100 / (percent - 1)\n",
    "        return f\"-{int(abs(val))}\"\n",
    "    else:\n",
    "        val = 100 / percent - 100\n",
    "        return f\"-{int(abs(val))}\""
   ]
  },
  {
   "cell_type": "code",
   "execution_count": 240,
   "id": "692762b8",
   "metadata": {},
   "outputs": [],
   "source": [
    "# Convert the probabilities into American betting odds.\n",
    "todays_fixtures['Winner Line'] = todays_fixtures['prob'].apply(lambda x: odds_formula(x))"
   ]
  },
  {
   "cell_type": "code",
   "execution_count": 241,
   "id": "2d683c53",
   "metadata": {
    "scrolled": true
   },
   "outputs": [
    {
     "data": {
      "text/html": [
       "<div>\n",
       "<style scoped>\n",
       "    .dataframe tbody tr th:only-of-type {\n",
       "        vertical-align: middle;\n",
       "    }\n",
       "\n",
       "    .dataframe tbody tr th {\n",
       "        vertical-align: top;\n",
       "    }\n",
       "\n",
       "    .dataframe thead th {\n",
       "        text-align: right;\n",
       "    }\n",
       "</style>\n",
       "<table border=\"1\" class=\"dataframe\">\n",
       "  <thead>\n",
       "    <tr style=\"text-align: right;\">\n",
       "      <th></th>\n",
       "      <th>Home</th>\n",
       "      <th>Away</th>\n",
       "      <th>prob</th>\n",
       "      <th>winner</th>\n",
       "      <th>Winner Line</th>\n",
       "    </tr>\n",
       "  </thead>\n",
       "  <tbody>\n",
       "    <tr>\n",
       "      <th>0</th>\n",
       "      <td>Utah</td>\n",
       "      <td>Phoenix</td>\n",
       "      <td>0.41</td>\n",
       "      <td>Phoenix</td>\n",
       "      <td>-143</td>\n",
       "    </tr>\n",
       "    <tr>\n",
       "      <th>1</th>\n",
       "      <td>New Orleans</td>\n",
       "      <td>Boston</td>\n",
       "      <td>0.36</td>\n",
       "      <td>Boston</td>\n",
       "      <td>-177</td>\n",
       "    </tr>\n",
       "    <tr>\n",
       "      <th>2</th>\n",
       "      <td>Dallas</td>\n",
       "      <td>Denver</td>\n",
       "      <td>0.42</td>\n",
       "      <td>Denver</td>\n",
       "      <td>-138</td>\n",
       "    </tr>\n",
       "    <tr>\n",
       "      <th>3</th>\n",
       "      <td>Cleveland</td>\n",
       "      <td>Charlotte</td>\n",
       "      <td>0.71</td>\n",
       "      <td>Cleveland</td>\n",
       "      <td>-244</td>\n",
       "    </tr>\n",
       "    <tr>\n",
       "      <th>4</th>\n",
       "      <td>Chicago</td>\n",
       "      <td>Orlando</td>\n",
       "      <td>0.47</td>\n",
       "      <td>Orlando</td>\n",
       "      <td>-112</td>\n",
       "    </tr>\n",
       "    <tr>\n",
       "      <th>5</th>\n",
       "      <td>Philadelphia</td>\n",
       "      <td>Milwaukee</td>\n",
       "      <td>0.31</td>\n",
       "      <td>Milwaukee</td>\n",
       "      <td>-222</td>\n",
       "    </tr>\n",
       "    <tr>\n",
       "      <th>6</th>\n",
       "      <td>Golden State</td>\n",
       "      <td>New York</td>\n",
       "      <td>0.31</td>\n",
       "      <td>New York</td>\n",
       "      <td>-222</td>\n",
       "    </tr>\n",
       "    <tr>\n",
       "      <th>7</th>\n",
       "      <td>Washington</td>\n",
       "      <td>Miami</td>\n",
       "      <td>0.40</td>\n",
       "      <td>Miami</td>\n",
       "      <td>-149</td>\n",
       "    </tr>\n",
       "    <tr>\n",
       "      <th>8</th>\n",
       "      <td>Houston</td>\n",
       "      <td>Indiana</td>\n",
       "      <td>0.23</td>\n",
       "      <td>Indiana</td>\n",
       "      <td>-334</td>\n",
       "    </tr>\n",
       "    <tr>\n",
       "      <th>9</th>\n",
       "      <td>L.A. Lakers</td>\n",
       "      <td>Detroit</td>\n",
       "      <td>0.40</td>\n",
       "      <td>Detroit</td>\n",
       "      <td>-149</td>\n",
       "    </tr>\n",
       "    <tr>\n",
       "      <th>10</th>\n",
       "      <td>Memphis</td>\n",
       "      <td>Oklahoma City</td>\n",
       "      <td>0.58</td>\n",
       "      <td>Memphis</td>\n",
       "      <td>-138</td>\n",
       "    </tr>\n",
       "  </tbody>\n",
       "</table>\n",
       "</div>"
      ],
      "text/plain": [
       "            Home           Away  prob     winner Winner Line\n",
       "0           Utah        Phoenix  0.41    Phoenix        -143\n",
       "1    New Orleans         Boston  0.36     Boston        -177\n",
       "2         Dallas         Denver  0.42     Denver        -138\n",
       "3      Cleveland      Charlotte  0.71  Cleveland        -244\n",
       "4        Chicago        Orlando  0.47    Orlando        -112\n",
       "5   Philadelphia      Milwaukee  0.31  Milwaukee        -222\n",
       "6   Golden State       New York  0.31   New York        -222\n",
       "7     Washington          Miami  0.40      Miami        -149\n",
       "8        Houston        Indiana  0.23    Indiana        -334\n",
       "9    L.A. Lakers        Detroit  0.40    Detroit        -149\n",
       "10       Memphis  Oklahoma City  0.58    Memphis        -138"
      ]
     },
     "execution_count": 241,
     "metadata": {},
     "output_type": "execute_result"
    }
   ],
   "source": [
    "todays_fixtures[['Home','Away','prob','winner','Winner Line']]"
   ]
  }
 ],
 "metadata": {
  "kernelspec": {
   "display_name": "Python 3 (ipykernel)",
   "language": "python",
   "name": "python3"
  },
  "language_info": {
   "codemirror_mode": {
    "name": "ipython",
    "version": 3
   },
   "file_extension": ".py",
   "mimetype": "text/x-python",
   "name": "python",
   "nbconvert_exporter": "python",
   "pygments_lexer": "ipython3",
   "version": "3.9.13"
  }
 },
 "nbformat": 4,
 "nbformat_minor": 5
}
